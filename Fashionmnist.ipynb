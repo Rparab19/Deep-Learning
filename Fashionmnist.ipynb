{
  "nbformat": 4,
  "nbformat_minor": 0,
  "metadata": {
    "colab": {
      "provenance": []
    },
    "kernelspec": {
      "name": "python3",
      "display_name": "Python 3"
    },
    "language_info": {
      "name": "python"
    }
  },
  "cells": [
    {
      "cell_type": "code",
      "execution_count": null,
      "metadata": {
        "id": "8_mte4GKQEau"
      },
      "outputs": [],
      "source": [
        "#IMPORTING LIBRARIES\n",
        "import tensorflow\n",
        "from tensorflow import keras\n",
        "from tensorflow.keras import Sequential\n",
        "from tensorflow.keras.layers import Dense,Flatten"
      ]
    },
    {
      "cell_type": "code",
      "source": [
        "#LOADING DATASET\n",
        "(xtrain,ytrain),(xtest,ytest)=keras.datasets.fashion_mnist.load_data()"
      ],
      "metadata": {
        "colab": {
          "base_uri": "https://localhost:8080/"
        },
        "id": "ZTvNO15CQOBa",
        "outputId": "3b1d3348-5a25-49f8-dd18-bb7d0753eeff"
      },
      "execution_count": null,
      "outputs": [
        {
          "output_type": "stream",
          "name": "stdout",
          "text": [
            "Downloading data from https://storage.googleapis.com/tensorflow/tf-keras-datasets/train-labels-idx1-ubyte.gz\n",
            "29515/29515 [==============================] - 0s 0us/step\n",
            "Downloading data from https://storage.googleapis.com/tensorflow/tf-keras-datasets/train-images-idx3-ubyte.gz\n",
            "26421880/26421880 [==============================] - 0s 0us/step\n",
            "Downloading data from https://storage.googleapis.com/tensorflow/tf-keras-datasets/t10k-labels-idx1-ubyte.gz\n",
            "5148/5148 [==============================] - 0s 0us/step\n",
            "Downloading data from https://storage.googleapis.com/tensorflow/tf-keras-datasets/t10k-images-idx3-ubyte.gz\n",
            "4422102/4422102 [==============================] - 0s 0us/step\n"
          ]
        }
      ]
    },
    {
      "cell_type": "code",
      "source": [
        "xtrain[0].shape"
      ],
      "metadata": {
        "colab": {
          "base_uri": "https://localhost:8080/"
        },
        "id": "zSoFVpd-QSjx",
        "outputId": "a9c4053a-dcba-4142-9842-b3786a098c3a"
      },
      "execution_count": null,
      "outputs": [
        {
          "output_type": "execute_result",
          "data": {
            "text/plain": [
              "(28, 28)"
            ]
          },
          "metadata": {},
          "execution_count": 3
        }
      ]
    },
    {
      "cell_type": "code",
      "source": [
        "xtrain[0]\n"
      ],
      "metadata": {
        "colab": {
          "base_uri": "https://localhost:8080/"
        },
        "id": "BCszWeXpQYp3",
        "outputId": "4ef8c657-f146-4c48-9de8-99ef608b5155"
      },
      "execution_count": null,
      "outputs": [
        {
          "output_type": "execute_result",
          "data": {
            "text/plain": [
              "array([[  0,   0,   0,   0,   0,   0,   0,   0,   0,   0,   0,   0,   0,\n",
              "          0,   0,   0,   0,   0,   0,   0,   0,   0,   0,   0,   0,   0,\n",
              "          0,   0],\n",
              "       [  0,   0,   0,   0,   0,   0,   0,   0,   0,   0,   0,   0,   0,\n",
              "          0,   0,   0,   0,   0,   0,   0,   0,   0,   0,   0,   0,   0,\n",
              "          0,   0],\n",
              "       [  0,   0,   0,   0,   0,   0,   0,   0,   0,   0,   0,   0,   0,\n",
              "          0,   0,   0,   0,   0,   0,   0,   0,   0,   0,   0,   0,   0,\n",
              "          0,   0],\n",
              "       [  0,   0,   0,   0,   0,   0,   0,   0,   0,   0,   0,   0,   1,\n",
              "          0,   0,  13,  73,   0,   0,   1,   4,   0,   0,   0,   0,   1,\n",
              "          1,   0],\n",
              "       [  0,   0,   0,   0,   0,   0,   0,   0,   0,   0,   0,   0,   3,\n",
              "          0,  36, 136, 127,  62,  54,   0,   0,   0,   1,   3,   4,   0,\n",
              "          0,   3],\n",
              "       [  0,   0,   0,   0,   0,   0,   0,   0,   0,   0,   0,   0,   6,\n",
              "          0, 102, 204, 176, 134, 144, 123,  23,   0,   0,   0,   0,  12,\n",
              "         10,   0],\n",
              "       [  0,   0,   0,   0,   0,   0,   0,   0,   0,   0,   0,   0,   0,\n",
              "          0, 155, 236, 207, 178, 107, 156, 161, 109,  64,  23,  77, 130,\n",
              "         72,  15],\n",
              "       [  0,   0,   0,   0,   0,   0,   0,   0,   0,   0,   0,   1,   0,\n",
              "         69, 207, 223, 218, 216, 216, 163, 127, 121, 122, 146, 141,  88,\n",
              "        172,  66],\n",
              "       [  0,   0,   0,   0,   0,   0,   0,   0,   0,   1,   1,   1,   0,\n",
              "        200, 232, 232, 233, 229, 223, 223, 215, 213, 164, 127, 123, 196,\n",
              "        229,   0],\n",
              "       [  0,   0,   0,   0,   0,   0,   0,   0,   0,   0,   0,   0,   0,\n",
              "        183, 225, 216, 223, 228, 235, 227, 224, 222, 224, 221, 223, 245,\n",
              "        173,   0],\n",
              "       [  0,   0,   0,   0,   0,   0,   0,   0,   0,   0,   0,   0,   0,\n",
              "        193, 228, 218, 213, 198, 180, 212, 210, 211, 213, 223, 220, 243,\n",
              "        202,   0],\n",
              "       [  0,   0,   0,   0,   0,   0,   0,   0,   0,   1,   3,   0,  12,\n",
              "        219, 220, 212, 218, 192, 169, 227, 208, 218, 224, 212, 226, 197,\n",
              "        209,  52],\n",
              "       [  0,   0,   0,   0,   0,   0,   0,   0,   0,   0,   6,   0,  99,\n",
              "        244, 222, 220, 218, 203, 198, 221, 215, 213, 222, 220, 245, 119,\n",
              "        167,  56],\n",
              "       [  0,   0,   0,   0,   0,   0,   0,   0,   0,   4,   0,   0,  55,\n",
              "        236, 228, 230, 228, 240, 232, 213, 218, 223, 234, 217, 217, 209,\n",
              "         92,   0],\n",
              "       [  0,   0,   1,   4,   6,   7,   2,   0,   0,   0,   0,   0, 237,\n",
              "        226, 217, 223, 222, 219, 222, 221, 216, 223, 229, 215, 218, 255,\n",
              "         77,   0],\n",
              "       [  0,   3,   0,   0,   0,   0,   0,   0,   0,  62, 145, 204, 228,\n",
              "        207, 213, 221, 218, 208, 211, 218, 224, 223, 219, 215, 224, 244,\n",
              "        159,   0],\n",
              "       [  0,   0,   0,   0,  18,  44,  82, 107, 189, 228, 220, 222, 217,\n",
              "        226, 200, 205, 211, 230, 224, 234, 176, 188, 250, 248, 233, 238,\n",
              "        215,   0],\n",
              "       [  0,  57, 187, 208, 224, 221, 224, 208, 204, 214, 208, 209, 200,\n",
              "        159, 245, 193, 206, 223, 255, 255, 221, 234, 221, 211, 220, 232,\n",
              "        246,   0],\n",
              "       [  3, 202, 228, 224, 221, 211, 211, 214, 205, 205, 205, 220, 240,\n",
              "         80, 150, 255, 229, 221, 188, 154, 191, 210, 204, 209, 222, 228,\n",
              "        225,   0],\n",
              "       [ 98, 233, 198, 210, 222, 229, 229, 234, 249, 220, 194, 215, 217,\n",
              "        241,  65,  73, 106, 117, 168, 219, 221, 215, 217, 223, 223, 224,\n",
              "        229,  29],\n",
              "       [ 75, 204, 212, 204, 193, 205, 211, 225, 216, 185, 197, 206, 198,\n",
              "        213, 240, 195, 227, 245, 239, 223, 218, 212, 209, 222, 220, 221,\n",
              "        230,  67],\n",
              "       [ 48, 203, 183, 194, 213, 197, 185, 190, 194, 192, 202, 214, 219,\n",
              "        221, 220, 236, 225, 216, 199, 206, 186, 181, 177, 172, 181, 205,\n",
              "        206, 115],\n",
              "       [  0, 122, 219, 193, 179, 171, 183, 196, 204, 210, 213, 207, 211,\n",
              "        210, 200, 196, 194, 191, 195, 191, 198, 192, 176, 156, 167, 177,\n",
              "        210,  92],\n",
              "       [  0,   0,  74, 189, 212, 191, 175, 172, 175, 181, 185, 188, 189,\n",
              "        188, 193, 198, 204, 209, 210, 210, 211, 188, 188, 194, 192, 216,\n",
              "        170,   0],\n",
              "       [  2,   0,   0,   0,  66, 200, 222, 237, 239, 242, 246, 243, 244,\n",
              "        221, 220, 193, 191, 179, 182, 182, 181, 176, 166, 168,  99,  58,\n",
              "          0,   0],\n",
              "       [  0,   0,   0,   0,   0,   0,   0,  40,  61,  44,  72,  41,  35,\n",
              "          0,   0,   0,   0,   0,   0,   0,   0,   0,   0,   0,   0,   0,\n",
              "          0,   0],\n",
              "       [  0,   0,   0,   0,   0,   0,   0,   0,   0,   0,   0,   0,   0,\n",
              "          0,   0,   0,   0,   0,   0,   0,   0,   0,   0,   0,   0,   0,\n",
              "          0,   0],\n",
              "       [  0,   0,   0,   0,   0,   0,   0,   0,   0,   0,   0,   0,   0,\n",
              "          0,   0,   0,   0,   0,   0,   0,   0,   0,   0,   0,   0,   0,\n",
              "          0,   0]], dtype=uint8)"
            ]
          },
          "metadata": {},
          "execution_count": 4
        }
      ]
    },
    {
      "cell_type": "code",
      "source": [
        "#PLOTTING\n",
        "import matplotlib.pyplot as plt\n",
        "plt.imshow(xtrain[0])"
      ],
      "metadata": {
        "colab": {
          "base_uri": "https://localhost:8080/",
          "height": 282
        },
        "id": "0gJ-qPxkQbvo",
        "outputId": "ccf7efe5-ee3a-4f64-e894-d07e2752ac05"
      },
      "execution_count": null,
      "outputs": [
        {
          "output_type": "execute_result",
          "data": {
            "text/plain": [
              "<matplotlib.image.AxesImage at 0x7f9fe55b7a30>"
            ]
          },
          "metadata": {},
          "execution_count": 5
        },
        {
          "output_type": "display_data",
          "data": {
            "text/plain": [
              "<Figure size 432x288 with 1 Axes>"
            ],
            "image/png": "[encoded data removed]"
          },
          "metadata": {
            "needs_background": "light"
          }
        }
      ]
    },
    {
      "cell_type": "code",
      "source": [
        "ytest"
      ],
      "metadata": {
        "colab": {
          "base_uri": "https://localhost:8080/"
        },
        "id": "eOj-JjrAQhKh",
        "outputId": "581aa2ef-52f4-41dc-9051-8fb5c990cec1"
      },
      "execution_count": null,
      "outputs": [
        {
          "output_type": "execute_result",
          "data": {
            "text/plain": [
              "array([9, 2, 1, ..., 8, 1, 5], dtype=uint8)"
            ]
          },
          "metadata": {},
          "execution_count": 6
        }
      ]
    },
    {
      "cell_type": "code",
      "source": [
        "plt.imshow(xtest[0])"
      ],
      "metadata": {
        "colab": {
          "base_uri": "https://localhost:8080/",
          "height": 282
        },
        "id": "oKI_4VM-QlWx",
        "outputId": "668bd8ba-e0ca-48d0-ae4d-901c3e8368e6"
      },
      "execution_count": null,
      "outputs": [
        {
          "output_type": "execute_result",
          "data": {
            "text/plain": [
              "<matplotlib.image.AxesImage at 0x7f9fe2cdcfa0>"
            ]
          },
          "metadata": {},
          "execution_count": 7
        },
        {
          "output_type": "display_data",
          "data": {
            "text/plain": [
              "<Figure size 432x288 with 1 Axes>"
            ],
            "image/png": "[encoded data removed]"
          },
          "metadata": {
            "needs_background": "light"
          }
        }
      ]
    },
    {
      "cell_type": "code",
      "source": [
        "xtrain=xtrain/255\n",
        "xtest=xtest/255\n",
        "xtrain.shape\n"
      ],
      "metadata": {
        "colab": {
          "base_uri": "https://localhost:8080/"
        },
        "id": "gIpVaKO_QpEk",
        "outputId": "ed858958-5aa5-408a-dbae-e79f75d08e1e"
      },
      "execution_count": null,
      "outputs": [
        {
          "output_type": "execute_result",
          "data": {
            "text/plain": [
              "(60000, 28, 28)"
            ]
          },
          "metadata": {},
          "execution_count": 8
        }
      ]
    },
    {
      "cell_type": "code",
      "source": [
        "ytrain"
      ],
      "metadata": {
        "colab": {
          "base_uri": "https://localhost:8080/"
        },
        "id": "L8FMffQEQu02",
        "outputId": "7abd3379-ca95-44e2-f047-1cf36049bb77"
      },
      "execution_count": null,
      "outputs": [
        {
          "output_type": "execute_result",
          "data": {
            "text/plain": [
              "array([9, 0, 0, ..., 3, 0, 5], dtype=uint8)"
            ]
          },
          "metadata": {},
          "execution_count": 9
        }
      ]
    },
    {
      "cell_type": "code",
      "source": [
        "#ADDING HIDDEN LAYER AND OUTPUT LAYER\n",
        "\n",
        "model=Sequential()\n",
        "model.add(Flatten(input_shape=(28,28)))\n",
        "model.add(Dense(128,activation=\"relu\"))\n",
        "model.add(Dense(50,activation=\"relu\"))\n",
        "model.add(Dense(32,activation=\"relu\"))\n",
        "model.add(Dense(10,activation=\"softmax\"))\n",
        "model.compile(loss=\"sparse_categorical_crossentropy\",optimizer=\"adam\",metrics=[\"accuracy\"])"
      ],
      "metadata": {
        "id": "r3x2EriJQz2C"
      },
      "execution_count": null,
      "outputs": []
    },
    {
      "cell_type": "code",
      "source": [
        "history=model.fit(xtrain,ytrain,epochs=30,validation_split=0.25)"
      ],
      "metadata": {
        "colab": {
          "base_uri": "https://localhost:8080/"
        },
        "id": "FkP4MheIRAZe",
        "outputId": "e51ec158-6bf8-4842-a3cd-50b60a5cb413"
      },
      "execution_count": null,
      "outputs": [
        {
          "output_type": "stream",
          "name": "stdout",
          "text": [
            "Epoch 1/30\n",
            "1407/1407 [==============================] - 10s 6ms/step - loss: 0.5625 - accuracy: 0.8001 - val_loss: 0.4986 - val_accuracy: 0.8209\n",
            "Epoch 2/30\n",
            "1407/1407 [==============================] - 8s 6ms/step - loss: 0.3872 - accuracy: 0.8582 - val_loss: 0.3733 - val_accuracy: 0.8633\n",
            "Epoch 3/30\n",
            "1407/1407 [==============================] - 9s 6ms/step - loss: 0.3468 - accuracy: 0.8728 - val_loss: 0.3840 - val_accuracy: 0.8626\n",
            "Epoch 4/30\n",
            "1407/1407 [==============================] - 9s 6ms/step - loss: 0.3240 - accuracy: 0.8809 - val_loss: 0.3366 - val_accuracy: 0.8791\n",
            "Epoch 5/30\n",
            "1407/1407 [==============================] - 8s 6ms/step - loss: 0.3056 - accuracy: 0.8851 - val_loss: 0.3622 - val_accuracy: 0.8708\n",
            "Epoch 6/30\n",
            "1407/1407 [==============================] - 9s 7ms/step - loss: 0.2891 - accuracy: 0.8915 - val_loss: 0.3305 - val_accuracy: 0.8791\n",
            "Epoch 7/30\n",
            "1407/1407 [==============================] - 9s 7ms/step - loss: 0.2790 - accuracy: 0.8965 - val_loss: 0.3480 - val_accuracy: 0.8749\n",
            "Epoch 8/30\n",
            "1407/1407 [==============================] - 11s 7ms/step - loss: 0.2661 - accuracy: 0.9003 - val_loss: 0.3295 - val_accuracy: 0.8838\n",
            "Epoch 9/30\n",
            "1407/1407 [==============================] - 8s 6ms/step - loss: 0.2591 - accuracy: 0.9025 - val_loss: 0.3413 - val_accuracy: 0.8791\n",
            "Epoch 10/30\n",
            "1407/1407 [==============================] - 9s 6ms/step - loss: 0.2515 - accuracy: 0.9051 - val_loss: 0.3179 - val_accuracy: 0.8876\n",
            "Epoch 11/30\n",
            "1407/1407 [==============================] - 9s 6ms/step - loss: 0.2416 - accuracy: 0.9095 - val_loss: 0.3283 - val_accuracy: 0.8858\n",
            "Epoch 12/30\n",
            "1407/1407 [==============================] - 8s 6ms/step - loss: 0.2323 - accuracy: 0.9123 - val_loss: 0.3332 - val_accuracy: 0.8865\n",
            "Epoch 13/30\n",
            "1407/1407 [==============================] - 9s 6ms/step - loss: 0.2289 - accuracy: 0.9130 - val_loss: 0.3447 - val_accuracy: 0.8841\n",
            "Epoch 14/30\n",
            "1407/1407 [==============================] - 11s 8ms/step - loss: 0.2192 - accuracy: 0.9187 - val_loss: 0.3477 - val_accuracy: 0.8833\n",
            "Epoch 15/30\n",
            "1407/1407 [==============================] - 9s 7ms/step - loss: 0.2145 - accuracy: 0.9189 - val_loss: 0.3533 - val_accuracy: 0.8810\n",
            "Epoch 16/30\n",
            "1407/1407 [==============================] - 9s 6ms/step - loss: 0.2079 - accuracy: 0.9213 - val_loss: 0.3460 - val_accuracy: 0.8833\n",
            "Epoch 17/30\n",
            "1407/1407 [==============================] - 9s 6ms/step - loss: 0.2016 - accuracy: 0.9243 - val_loss: 0.3431 - val_accuracy: 0.8866\n",
            "Epoch 18/30\n",
            "1407/1407 [==============================] - 10s 7ms/step - loss: 0.1987 - accuracy: 0.9232 - val_loss: 0.3449 - val_accuracy: 0.8890\n",
            "Epoch 19/30\n",
            "1407/1407 [==============================] - 8s 6ms/step - loss: 0.1919 - accuracy: 0.9274 - val_loss: 0.3770 - val_accuracy: 0.8793\n",
            "Epoch 20/30\n",
            "1407/1407 [==============================] - 12s 9ms/step - loss: 0.1839 - accuracy: 0.9291 - val_loss: 0.3637 - val_accuracy: 0.8869\n",
            "Epoch 21/30\n",
            "1407/1407 [==============================] - 10s 7ms/step - loss: 0.1831 - accuracy: 0.9309 - val_loss: 0.3524 - val_accuracy: 0.8887\n",
            "Epoch 22/30\n",
            "1407/1407 [==============================] - 9s 6ms/step - loss: 0.1742 - accuracy: 0.9336 - val_loss: 0.3625 - val_accuracy: 0.8875\n",
            "Epoch 23/30\n",
            "1407/1407 [==============================] - 8s 6ms/step - loss: 0.1747 - accuracy: 0.9334 - val_loss: 0.3897 - val_accuracy: 0.8885\n",
            "Epoch 24/30\n",
            "1407/1407 [==============================] - 9s 6ms/step - loss: 0.1707 - accuracy: 0.9350 - val_loss: 0.3638 - val_accuracy: 0.8888\n",
            "Epoch 25/30\n",
            "1407/1407 [==============================] - 9s 6ms/step - loss: 0.1641 - accuracy: 0.9372 - val_loss: 0.3808 - val_accuracy: 0.8829\n",
            "Epoch 26/30\n",
            "1407/1407 [==============================] - 10s 7ms/step - loss: 0.1594 - accuracy: 0.9393 - val_loss: 0.3744 - val_accuracy: 0.8856\n",
            "Epoch 27/30\n",
            "1407/1407 [==============================] - 8s 6ms/step - loss: 0.1592 - accuracy: 0.9395 - val_loss: 0.3897 - val_accuracy: 0.8869\n",
            "Epoch 28/30\n",
            "1407/1407 [==============================] - 8s 6ms/step - loss: 0.1565 - accuracy: 0.9412 - val_loss: 0.3828 - val_accuracy: 0.8882\n",
            "Epoch 29/30\n",
            "1407/1407 [==============================] - 9s 7ms/step - loss: 0.1509 - accuracy: 0.9423 - val_loss: 0.3985 - val_accuracy: 0.8899\n",
            "Epoch 30/30\n",
            "1407/1407 [==============================] - 8s 5ms/step - loss: 0.1478 - accuracy: 0.9432 - val_loss: 0.4035 - val_accuracy: 0.8891\n"
          ]
        }
      ]
    },
    {
      "cell_type": "code",
      "source": [
        "xtest[0]"
      ],
      "metadata": {
        "colab": {
          "base_uri": "https://localhost:8080/"
        },
        "id": "gPVhFVAtRGgM",
        "outputId": "fbdfc32a-139e-48fd-bcab-2fa64edace94"
      },
      "execution_count": null,
      "outputs": [
        {
          "output_type": "execute_result",
          "data": {
            "text/plain": [
              "array([[0.        , 0.        , 0.        , 0.        , 0.        ,\n",
              "        0.        , 0.        , 0.        , 0.        , 0.        ,\n",
              "        0.        , 0.        , 0.        , 0.        , 0.        ,\n",
              "        0.        , 0.        , 0.        , 0.        , 0.        ,\n",
              "        0.        , 0.        , 0.        , 0.        , 0.        ,\n",
              "        0.        , 0.        , 0.        ],\n",
              "       [0.        , 0.        , 0.        , 0.        , 0.        ,\n",
              "        0.        , 0.        , 0.        , 0.        , 0.        ,\n",
              "        0.        , 0.        , 0.        , 0.        , 0.        ,\n",
              "        0.        , 0.        , 0.        , 0.        , 0.        ,\n",
              "        0.        , 0.        , 0.        , 0.        , 0.        ,\n",
              "        0.        , 0.        , 0.        ],\n",
              "       [0.        , 0.        , 0.        , 0.        , 0.        ,\n",
              "        0.        , 0.        , 0.        , 0.        , 0.        ,\n",
              "        0.        , 0.        , 0.        , 0.        , 0.        ,\n",
              "        0.        , 0.        , 0.        , 0.        , 0.        ,\n",
              "        0.        , 0.        , 0.        , 0.        , 0.        ,\n",
              "        0.        , 0.        , 0.        ],\n",
              "       [0.        , 0.        , 0.        , 0.        , 0.        ,\n",
              "        0.        , 0.        , 0.        , 0.        , 0.        ,\n",
              "        0.        , 0.        , 0.        , 0.        , 0.        ,\n",
              "        0.        , 0.        , 0.        , 0.        , 0.        ,\n",
              "        0.        , 0.        , 0.        , 0.        , 0.        ,\n",
              "        0.        , 0.        , 0.        ],\n",
              "       [0.        , 0.        , 0.        , 0.        , 0.        ,\n",
              "        0.        , 0.        , 0.        , 0.        , 0.        ,\n",
              "        0.        , 0.        , 0.        , 0.        , 0.        ,\n",
              "        0.        , 0.        , 0.        , 0.        , 0.        ,\n",
              "        0.        , 0.        , 0.        , 0.        , 0.        ,\n",
              "        0.        , 0.        , 0.        ],\n",
              "       [0.        , 0.        , 0.        , 0.        , 0.        ,\n",
              "        0.        , 0.        , 0.        , 0.        , 0.        ,\n",
              "        0.        , 0.        , 0.        , 0.        , 0.        ,\n",
              "        0.        , 0.        , 0.        , 0.        , 0.        ,\n",
              "        0.        , 0.        , 0.        , 0.        , 0.        ,\n",
              "        0.        , 0.        , 0.        ],\n",
              "       [0.        , 0.        , 0.        , 0.        , 0.        ,\n",
              "        0.        , 0.        , 0.        , 0.        , 0.        ,\n",
              "        0.        , 0.        , 0.        , 0.        , 0.        ,\n",
              "        0.        , 0.        , 0.        , 0.        , 0.        ,\n",
              "        0.        , 0.        , 0.        , 0.        , 0.        ,\n",
              "        0.        , 0.        , 0.        ],\n",
              "       [0.        , 0.        , 0.        , 0.        , 0.        ,\n",
              "        0.        , 0.        , 0.        , 0.        , 0.        ,\n",
              "        0.        , 0.        , 0.        , 0.        , 0.        ,\n",
              "        0.        , 0.        , 0.        , 0.        , 0.01176471,\n",
              "        0.00392157, 0.        , 0.        , 0.02745098, 0.        ,\n",
              "        0.14509804, 0.        , 0.        ],\n",
              "       [0.        , 0.        , 0.        , 0.        , 0.        ,\n",
              "        0.        , 0.        , 0.        , 0.        , 0.        ,\n",
              "        0.        , 0.        , 0.        , 0.00392157, 0.00784314,\n",
              "        0.        , 0.10588235, 0.32941176, 0.04313725, 0.        ,\n",
              "        0.        , 0.        , 0.        , 0.        , 0.        ,\n",
              "        0.46666667, 0.        , 0.        ],\n",
              "       [0.        , 0.        , 0.        , 0.        , 0.        ,\n",
              "        0.        , 0.        , 0.        , 0.        , 0.        ,\n",
              "        0.        , 0.        , 0.        , 0.00392157, 0.        ,\n",
              "        0.        , 0.34509804, 0.56078431, 0.43137255, 0.        ,\n",
              "        0.        , 0.        , 0.        , 0.08627451, 0.36470588,\n",
              "        0.41568627, 0.        , 0.        ],\n",
              "       [0.        , 0.        , 0.        , 0.        , 0.        ,\n",
              "        0.        , 0.        , 0.        , 0.        , 0.        ,\n",
              "        0.        , 0.        , 0.        , 0.01568627, 0.        ,\n",
              "        0.20784314, 0.50588235, 0.47058824, 0.57647059, 0.68627451,\n",
              "        0.61568627, 0.65098039, 0.52941176, 0.60392157, 0.65882353,\n",
              "        0.54901961, 0.        , 0.        ],\n",
              "       [0.        , 0.        , 0.        , 0.        , 0.        ,\n",
              "        0.        , 0.        , 0.        , 0.        , 0.        ,\n",
              "        0.        , 0.        , 0.00784314, 0.        , 0.04313725,\n",
              "        0.5372549 , 0.50980392, 0.50196078, 0.62745098, 0.69019608,\n",
              "        0.62352941, 0.65490196, 0.69803922, 0.58431373, 0.59215686,\n",
              "        0.56470588, 0.        , 0.        ],\n",
              "       [0.        , 0.        , 0.        , 0.        , 0.        ,\n",
              "        0.        , 0.00392157, 0.        , 0.00784314, 0.00392157,\n",
              "        0.        , 0.01176471, 0.        , 0.        , 0.45098039,\n",
              "        0.44705882, 0.41568627, 0.5372549 , 0.65882353, 0.6       ,\n",
              "        0.61176471, 0.64705882, 0.65490196, 0.56078431, 0.61568627,\n",
              "        0.61960784, 0.04313725, 0.        ],\n",
              "       [0.        , 0.        , 0.        , 0.        , 0.00392157,\n",
              "        0.        , 0.        , 0.        , 0.        , 0.        ,\n",
              "        0.01176471, 0.        , 0.        , 0.34901961, 0.54509804,\n",
              "        0.35294118, 0.36862745, 0.6       , 0.58431373, 0.51372549,\n",
              "        0.59215686, 0.6627451 , 0.6745098 , 0.56078431, 0.62352941,\n",
              "        0.6627451 , 0.18823529, 0.        ],\n",
              "       [0.        , 0.        , 0.        , 0.        , 0.        ,\n",
              "        0.        , 0.00784314, 0.01568627, 0.00392157, 0.        ,\n",
              "        0.        , 0.        , 0.38431373, 0.53333333, 0.43137255,\n",
              "        0.42745098, 0.43137255, 0.63529412, 0.52941176, 0.56470588,\n",
              "        0.58431373, 0.62352941, 0.65490196, 0.56470588, 0.61960784,\n",
              "        0.6627451 , 0.46666667, 0.        ],\n",
              "       [0.        , 0.        , 0.00784314, 0.00784314, 0.00392157,\n",
              "        0.00784314, 0.        , 0.        , 0.        , 0.        ,\n",
              "        0.10196078, 0.42352941, 0.45882353, 0.38823529, 0.43529412,\n",
              "        0.45882353, 0.53333333, 0.61176471, 0.5254902 , 0.60392157,\n",
              "        0.60392157, 0.61176471, 0.62745098, 0.55294118, 0.57647059,\n",
              "        0.61176471, 0.69803922, 0.        ],\n",
              "       [0.01176471, 0.        , 0.        , 0.        , 0.        ,\n",
              "        0.        , 0.        , 0.08235294, 0.20784314, 0.36078431,\n",
              "        0.45882353, 0.43529412, 0.40392157, 0.45098039, 0.50588235,\n",
              "        0.5254902 , 0.56078431, 0.60392157, 0.64705882, 0.66666667,\n",
              "        0.60392157, 0.59215686, 0.60392157, 0.56078431, 0.54117647,\n",
              "        0.58823529, 0.64705882, 0.16862745],\n",
              "       [0.        , 0.        , 0.09019608, 0.21176471, 0.25490196,\n",
              "        0.29803922, 0.33333333, 0.4627451 , 0.50196078, 0.48235294,\n",
              "        0.43529412, 0.44313725, 0.4627451 , 0.49803922, 0.49019608,\n",
              "        0.54509804, 0.52156863, 0.53333333, 0.62745098, 0.54901961,\n",
              "        0.60784314, 0.63137255, 0.56470588, 0.60784314, 0.6745098 ,\n",
              "        0.63137255, 0.74117647, 0.24313725],\n",
              "       [0.        , 0.26666667, 0.36862745, 0.35294118, 0.43529412,\n",
              "        0.44705882, 0.43529412, 0.44705882, 0.45098039, 0.49803922,\n",
              "        0.52941176, 0.53333333, 0.56078431, 0.49411765, 0.49803922,\n",
              "        0.59215686, 0.60392157, 0.56078431, 0.58039216, 0.49019608,\n",
              "        0.63529412, 0.63529412, 0.56470588, 0.54117647, 0.6       ,\n",
              "        0.63529412, 0.76862745, 0.22745098],\n",
              "       [0.2745098 , 0.6627451 , 0.50588235, 0.40784314, 0.38431373,\n",
              "        0.39215686, 0.36862745, 0.38039216, 0.38431373, 0.4       ,\n",
              "        0.42352941, 0.41568627, 0.46666667, 0.47058824, 0.50588235,\n",
              "        0.58431373, 0.61176471, 0.65490196, 0.74509804, 0.74509804,\n",
              "        0.76862745, 0.77647059, 0.77647059, 0.73333333, 0.77254902,\n",
              "        0.74117647, 0.72156863, 0.14117647],\n",
              "       [0.0627451 , 0.49411765, 0.67058824, 0.7372549 , 0.7372549 ,\n",
              "        0.72156863, 0.67058824, 0.6       , 0.52941176, 0.47058824,\n",
              "        0.49411765, 0.49803922, 0.57254902, 0.7254902 , 0.76470588,\n",
              "        0.81960784, 0.81568627, 1.        , 0.81960784, 0.69411765,\n",
              "        0.96078431, 0.98823529, 0.98431373, 0.98431373, 0.96862745,\n",
              "        0.8627451 , 0.80784314, 0.19215686],\n",
              "       [0.        , 0.        , 0.        , 0.04705882, 0.2627451 ,\n",
              "        0.41568627, 0.64313725, 0.7254902 , 0.78039216, 0.82352941,\n",
              "        0.82745098, 0.82352941, 0.81568627, 0.74509804, 0.58823529,\n",
              "        0.32156863, 0.03137255, 0.        , 0.        , 0.        ,\n",
              "        0.69803922, 0.81568627, 0.7372549 , 0.68627451, 0.63529412,\n",
              "        0.61960784, 0.59215686, 0.04313725],\n",
              "       [0.        , 0.        , 0.        , 0.        , 0.        ,\n",
              "        0.        , 0.        , 0.        , 0.        , 0.        ,\n",
              "        0.        , 0.        , 0.        , 0.        , 0.        ,\n",
              "        0.        , 0.        , 0.        , 0.        , 0.        ,\n",
              "        0.        , 0.        , 0.        , 0.        , 0.        ,\n",
              "        0.        , 0.        , 0.        ],\n",
              "       [0.        , 0.        , 0.        , 0.        , 0.        ,\n",
              "        0.        , 0.        , 0.        , 0.        , 0.        ,\n",
              "        0.        , 0.        , 0.        , 0.        , 0.        ,\n",
              "        0.        , 0.        , 0.        , 0.        , 0.        ,\n",
              "        0.        , 0.        , 0.        , 0.        , 0.        ,\n",
              "        0.        , 0.        , 0.        ],\n",
              "       [0.        , 0.        , 0.        , 0.        , 0.        ,\n",
              "        0.        , 0.        , 0.        , 0.        , 0.        ,\n",
              "        0.        , 0.        , 0.        , 0.        , 0.        ,\n",
              "        0.        , 0.        , 0.        , 0.        , 0.        ,\n",
              "        0.        , 0.        , 0.        , 0.        , 0.        ,\n",
              "        0.        , 0.        , 0.        ],\n",
              "       [0.        , 0.        , 0.        , 0.        , 0.        ,\n",
              "        0.        , 0.        , 0.        , 0.        , 0.        ,\n",
              "        0.        , 0.        , 0.        , 0.        , 0.        ,\n",
              "        0.        , 0.        , 0.        , 0.        , 0.        ,\n",
              "        0.        , 0.        , 0.        , 0.        , 0.        ,\n",
              "        0.        , 0.        , 0.        ],\n",
              "       [0.        , 0.        , 0.        , 0.        , 0.        ,\n",
              "        0.        , 0.        , 0.        , 0.        , 0.        ,\n",
              "        0.        , 0.        , 0.        , 0.        , 0.        ,\n",
              "        0.        , 0.        , 0.        , 0.        , 0.        ,\n",
              "        0.        , 0.        , 0.        , 0.        , 0.        ,\n",
              "        0.        , 0.        , 0.        ],\n",
              "       [0.        , 0.        , 0.        , 0.        , 0.        ,\n",
              "        0.        , 0.        , 0.        , 0.        , 0.        ,\n",
              "        0.        , 0.        , 0.        , 0.        , 0.        ,\n",
              "        0.        , 0.        , 0.        , 0.        , 0.        ,\n",
              "        0.        , 0.        , 0.        , 0.        , 0.        ,\n",
              "        0.        , 0.        , 0.        ]])"
            ]
          },
          "metadata": {},
          "execution_count": 12
        }
      ]
    },
    {
      "cell_type": "code",
      "source": [
        "yprob=model.predict(xtest)\n",
        "yprob[0]\n"
      ],
      "metadata": {
        "colab": {
          "base_uri": "https://localhost:8080/"
        },
        "id": "kUlBC7qrRjWs",
        "outputId": "7e70b20f-c030-4ff2-e703-38b3cd649593"
      },
      "execution_count": null,
      "outputs": [
        {
          "output_type": "stream",
          "name": "stdout",
          "text": [
            "313/313 [==============================] - 1s 3ms/step\n"
          ]
        },
        {
          "output_type": "execute_result",
          "data": {
            "text/plain": [
              "array([3.5038899e-12, 1.2125455e-09, 6.3410919e-13, 8.8327215e-15,\n",
              "       5.5628740e-14, 2.3718728e-08, 1.1529474e-10, 9.1113070e-05,\n",
              "       1.1065889e-08, 9.9990875e-01], dtype=float32)"
            ]
          },
          "metadata": {},
          "execution_count": 13
        }
      ]
    },
    {
      "cell_type": "code",
      "source": [
        "ypred=yprob.argmax(axis=1)\n",
        "ypred"
      ],
      "metadata": {
        "colab": {
          "base_uri": "https://localhost:8080/"
        },
        "id": "LB8oU4XNRjZk",
        "outputId": "96a90d7b-2423-4f84-ad1d-471c9541d285"
      },
      "execution_count": null,
      "outputs": [
        {
          "output_type": "execute_result",
          "data": {
            "text/plain": [
              "array([9, 2, 1, ..., 8, 1, 5])"
            ]
          },
          "metadata": {},
          "execution_count": 14
        }
      ]
    },
    {
      "cell_type": "code",
      "source": [
        "from sklearn.metrics import classification_report\n",
        "print(classification_report(ytest,ypred))\n"
      ],
      "metadata": {
        "colab": {
          "base_uri": "https://localhost:8080/"
        },
        "id": "XpPuRZ9JRjcK",
        "outputId": "85f35100-05a1-4b7d-91c4-7dcd3465d62b"
      },
      "execution_count": null,
      "outputs": [
        {
          "output_type": "stream",
          "name": "stdout",
          "text": [
            "              precision    recall  f1-score   support\n",
            "\n",
            "           0       0.79      0.87      0.83      1000\n",
            "           1       0.98      0.98      0.98      1000\n",
            "           2       0.77      0.84      0.80      1000\n",
            "           3       0.86      0.93      0.89      1000\n",
            "           4       0.80      0.81      0.81      1000\n",
            "           5       0.99      0.95      0.97      1000\n",
            "           6       0.78      0.56      0.66      1000\n",
            "           7       0.94      0.97      0.96      1000\n",
            "           8       0.97      0.98      0.97      1000\n",
            "           9       0.96      0.96      0.96      1000\n",
            "\n",
            "    accuracy                           0.89     10000\n",
            "   macro avg       0.88      0.89      0.88     10000\n",
            "weighted avg       0.88      0.89      0.88     10000\n",
            "\n"
          ]
        }
      ]
    },
    {
      "cell_type": "code",
      "source": [
        "plt.plot(history.history[\"loss\"])\n",
        "plt.plot(history.history[\"val_loss\"])"
      ],
      "metadata": {
        "colab": {
          "base_uri": "https://localhost:8080/",
          "height": 282
        },
        "id": "4OoJQWA5Rjff",
        "outputId": "39140f8b-f7bc-42ac-9430-9c280833fc37"
      },
      "execution_count": null,
      "outputs": [
        {
          "output_type": "execute_result",
          "data": {
            "text/plain": [
              "[<matplotlib.lines.Line2D at 0x7f9fb26eca30>]"
            ]
          },
          "metadata": {},
          "execution_count": 16
        },
        {
          "output_type": "display_data",
          "data": {
            "text/plain": [
              "<Figure size 432x288 with 1 Axes>"
            ],
            "image/png": "[encoded data removed]"
          },
          "metadata": {
            "needs_background": "light"
          }
        }
      ]
    },
    {
      "cell_type": "code",
      "source": [],
      "metadata": {
        "id": "RJ980AjeSbnE"
      },
      "execution_count": null,
      "outputs": []
    }
  ]
}